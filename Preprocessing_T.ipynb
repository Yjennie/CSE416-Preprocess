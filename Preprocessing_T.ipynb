{
 "cells": [
  {
   "cell_type": "code",
   "execution_count": 40,
   "id": "03780d6c-4208-4aca-abc5-9a5e22dff0ea",
   "metadata": {
    "tags": []
   },
   "outputs": [],
   "source": [
    "from gerrychain import Graph, Partition, Election, GeographicPartition\n",
    "from gerrychain.updaters import Tally, cut_edges\n",
    "import geopandas\n",
    "import pandas\n",
    "import maup\n",
    "from matplotlib import pyplot as plt\n",
    "import json\n",
    "import shapely"
   ]
  },
  {
   "cell_type": "code",
   "execution_count": 2,
   "id": "c7fdb0c9-abfd-413a-b5bd-3d94edf22c52",
   "metadata": {
    "tags": []
   },
   "outputs": [],
   "source": [
    "election = geopandas.read_file(\"./tennessee/tn_election_block.zip\").to_crs(32030)"
   ]
  },
  {
   "cell_type": "code",
   "execution_count": 3,
   "id": "b61e6cfc-30a2-46c5-94de-c3e05101932f",
   "metadata": {
    "tags": []
   },
   "outputs": [],
   "source": [
    "census = geopandas.read_file(\"./tennessee/tn_census_vtd.zip\").to_crs(32030)"
   ]
  },
  {
   "cell_type": "code",
   "execution_count": 5,
   "id": "3cf33324-a04e-4e85-9a4e-3d039c7f6c98",
   "metadata": {
    "tags": []
   },
   "outputs": [],
   "source": [
    "cleaned_election = geopandas.GeoDataFrame(election[[\"GEOID20\", \n",
    "                                                   \"G20PRERTRU\", \n",
    "                                                   \"G20PREDBID\", \n",
    "                                                   \"geometry\"]])"
   ]
  },
  {
   "cell_type": "code",
   "execution_count": 10,
   "id": "30c31603-9e5d-4c0e-929b-c435a6319daa",
   "metadata": {
    "tags": []
   },
   "outputs": [],
   "source": [
    "cleaned_census = geopandas.GeoDataFrame(census[[\"NAME20\", \n",
    "                                                \"P0020001\",\n",
    "                                                \"P0020002\",\n",
    "                                                \"P0020005\",\n",
    "                                                \"P0020006\",\n",
    "                                                \"geometry\"]])"
   ]
  },
  {
   "cell_type": "code",
   "execution_count": 18,
   "id": "ec7f9901-0417-49cf-a4bc-53a915da2d62",
   "metadata": {
    "tags": []
   },
   "outputs": [],
   "source": [
    "# BLOCK LEVEL\n",
    "renamed_election = cleaned_election.rename(columns={\"G20PRERTRU\": \"TRUMP20\",\n",
    "                                                    \"G20PREDBID\": \"BIDEN20\"\n",
    "}, errors=\"raise\")"
   ]
  },
  {
   "cell_type": "code",
   "execution_count": 19,
   "id": "b2091aa5-98d3-4b10-85c9-0f9e2353cf4e",
   "metadata": {
    "tags": []
   },
   "outputs": [],
   "source": [
    "# VTD LEVEL\n",
    "renamed_census = cleaned_census.rename(columns={\"P0020001\": \"TOTPOP20\",\n",
    "                                                \"P0020002\": \"HISPLAT20\",\n",
    "                                                \"P0020005\": \"WHITE20\",\n",
    "                                                \"P0020006\": \"BLACKAA20\"\n",
    "}, errors=\"raise\")"
   ]
  },
  {
   "cell_type": "code",
   "execution_count": 22,
   "id": "920d19a7-a55a-42ca-bb4a-aefdba188315",
   "metadata": {
    "tags": []
   },
   "outputs": [
    {
     "data": {
      "text/html": [
       "<div>\n",
       "<style scoped>\n",
       "    .dataframe tbody tr th:only-of-type {\n",
       "        vertical-align: middle;\n",
       "    }\n",
       "\n",
       "    .dataframe tbody tr th {\n",
       "        vertical-align: top;\n",
       "    }\n",
       "\n",
       "    .dataframe thead th {\n",
       "        text-align: right;\n",
       "    }\n",
       "</style>\n",
       "<table border=\"1\" class=\"dataframe\">\n",
       "  <thead>\n",
       "    <tr style=\"text-align: right;\">\n",
       "      <th></th>\n",
       "      <th>TRUMP20</th>\n",
       "      <th>BIDEN20</th>\n",
       "    </tr>\n",
       "  </thead>\n",
       "  <tbody>\n",
       "    <tr>\n",
       "      <th>0</th>\n",
       "      <td>958.04</td>\n",
       "      <td>1224.99</td>\n",
       "    </tr>\n",
       "    <tr>\n",
       "      <th>1</th>\n",
       "      <td>504.00</td>\n",
       "      <td>704.96</td>\n",
       "    </tr>\n",
       "    <tr>\n",
       "      <th>2</th>\n",
       "      <td>205.00</td>\n",
       "      <td>476.01</td>\n",
       "    </tr>\n",
       "    <tr>\n",
       "      <th>3</th>\n",
       "      <td>470.00</td>\n",
       "      <td>297.02</td>\n",
       "    </tr>\n",
       "    <tr>\n",
       "      <th>4</th>\n",
       "      <td>464.03</td>\n",
       "      <td>203.01</td>\n",
       "    </tr>\n",
       "  </tbody>\n",
       "</table>\n",
       "</div>"
      ],
      "text/plain": [
       "   TRUMP20  BIDEN20\n",
       "0   958.04  1224.99\n",
       "1   504.00   704.96\n",
       "2   205.00   476.01\n",
       "3   470.00   297.02\n",
       "4   464.03   203.01"
      ]
     },
     "execution_count": 22,
     "metadata": {},
     "output_type": "execute_result"
    }
   ],
   "source": [
    "# variables = [\"TOTPOP20\", \"HISPLAT20\", \"WHITE20\", \"BLACKAA20\"]\n",
    "variables = [\"TRUMP20\", \"BIDEN20\"]\n",
    "blocks_to_vtd_assignment = maup.assign(renamed_election, renamed_census)\n",
    "renamed_census[variables] = renamed_election[variables].groupby(blocks_to_vtd_assignment).sum()\n",
    "renamed_census[variables].head()"
   ]
  },
  {
   "cell_type": "code",
   "execution_count": 24,
   "id": "61157d0a-4f57-4011-9e3f-0981c7fb3ffc",
   "metadata": {
    "tags": []
   },
   "outputs": [],
   "source": [
    "rows_to_drop = []\n",
    "for i, row in renamed_census.iterrows():\n",
    "    if row.geometry is None:\n",
    "        rows_to_drop.append(i)\n",
    "        continue\n",
    "    if row[\"NAME20\"] == \"Voting Districts Not Defined\":\n",
    "        rows_to_drop.append(i)\n",
    "final_gdf = renamed_census.drop(rows_to_drop)"
   ]
  },
  {
   "cell_type": "code",
   "execution_count": 26,
   "id": "7cbc9948-9983-4944-8864-660c544c0bd1",
   "metadata": {
    "tags": []
   },
   "outputs": [],
   "source": [
    "districts = geopandas.read_file(\"./tennessee/tn_houserep_districts.zip\").to_crs(32030)"
   ]
  },
  {
   "cell_type": "code",
   "execution_count": 27,
   "id": "615554f1-fdc5-46a3-8476-95dda698beab",
   "metadata": {
    "tags": []
   },
   "outputs": [
    {
     "data": {
      "text/plain": [
       "0    26\n",
       "1    26\n",
       "2    26\n",
       "3    26\n",
       "4    26\n",
       "dtype: int64"
      ]
     },
     "execution_count": 27,
     "metadata": {},
     "output_type": "execute_result"
    }
   ],
   "source": [
    "vtd_to_district_assignment = maup.assign(final_gdf, districts)\n",
    "final_gdf[\"HR_DIST\"] = vtd_to_district_assignment\n",
    "vtd_to_district_assignment.head()"
   ]
  },
  {
   "cell_type": "code",
   "execution_count": 28,
   "id": "2220825e-d102-4420-8cf1-d2925ae3e8a1",
   "metadata": {
    "tags": []
   },
   "outputs": [],
   "source": [
    "final_gdf.to_file(\"tennessee.geojson\", driver=\"GeoJSON\")"
   ]
  },
  {
   "cell_type": "code",
   "execution_count": 38,
   "id": "ed24d54b-000b-4aff-aa42-996de10b3a9d",
   "metadata": {
    "tags": []
   },
   "outputs": [],
   "source": [
    "districts = max(final_gdf[\"HR_DIST\"]) + 1"
   ]
  },
  {
   "cell_type": "code",
   "execution_count": 41,
   "id": "b10175b3-8c20-4a5e-bf29-ccf7e179eed7",
   "metadata": {
    "tags": []
   },
   "outputs": [],
   "source": [
    "geometries = []\n",
    "district_data = []\n",
    "for district in range(0, districts):\n",
    "    filtered_gdf = final_gdf[final_gdf[\"HR_DIST\"] == district]\n",
    "    district_geometry = shapely.unary_union(filtered_gdf[\"geometry\"])\n",
    "    geometries.append(district_geometry)\n",
    "    \n",
    "    # Sum up election and demographic data\n",
    "    exclude = [\"NAME20\", \"HR_DIST\", \"geometry\"]\n",
    "    selected_gdf = filtered_gdf.drop(columns=exclude)\n",
    "    sum_data = selected_gdf.sum()\n",
    "    sum_data[\"district_id\"] = district\n",
    "    district_data.append(sum_data)\n",
    "\n",
    "df_list = []\n",
    "for series, geom in zip(district_data, geometries):\n",
    "    df = pandas.DataFrame(series).T\n",
    "    df[\"geometry\"] = geom\n",
    "    df_list.append(df)\n",
    "\n",
    "concat_df = pandas.concat(df_list)\n",
    "og_gdf = geopandas.GeoDataFrame(concat_df, geometry=\"geometry\")"
   ]
  },
  {
   "cell_type": "code",
   "execution_count": 44,
   "id": "39d38f6b-5035-4484-b6ff-5f1015815cac",
   "metadata": {
    "tags": []
   },
   "outputs": [],
   "source": [
    "with open(\"district_tennessee.geojson\", \"w\") as f:\n",
    "    f.write(og_gdf.to_json())"
   ]
  },
  {
   "cell_type": "code",
   "execution_count": null,
   "id": "306db4d4-5412-4624-9f49-a4a6f8a9f1db",
   "metadata": {},
   "outputs": [],
   "source": []
  }
 ],
 "metadata": {
  "kernelspec": {
   "display_name": "Python 3 (ipykernel)",
   "language": "python",
   "name": "python3"
  },
  "language_info": {
   "codemirror_mode": {
    "name": "ipython",
    "version": 3
   },
   "file_extension": ".py",
   "mimetype": "text/x-python",
   "name": "python",
   "nbconvert_exporter": "python",
   "pygments_lexer": "ipython3",
   "version": "3.10.9"
  }
 },
 "nbformat": 4,
 "nbformat_minor": 5
}
